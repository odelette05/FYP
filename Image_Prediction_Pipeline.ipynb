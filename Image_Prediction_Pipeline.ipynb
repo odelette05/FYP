{
 "cells": [
  {
   "cell_type": "markdown",
   "metadata": {},
   "source": [
    "# Image Text Recognition Model Pipeline"
   ]
  },
  {
   "cell_type": "markdown",
   "metadata": {},
   "source": [
    "The Pipeline has 2 Functions for Output Prediction:\n",
    "1. **Single Image Prediction:** Takes a single input Image and Gives the Final Text Label as output\n",
    "2. **Multiple Image Prediction:** Takes list of Image path names of images to be predicted and prints Actual Text Label and its corresponding Predicted Output Text Label for each Image present in the Folder Path"
   ]
  },
  {
   "cell_type": "code",
   "execution_count": 1,
   "metadata": {},
   "outputs": [],
   "source": [
    "from IPython.display import Image\n",
    "import numpy as np\n",
    "import pandas as pd\n",
    "import os \n",
    "import cv2\n",
    "from datetime import datetime\n",
    "import keras\n",
    "import random\n",
    "import matplotlib.pyplot as plt\n",
    "from collections import Counter\n",
    "import itertools\n",
    "from keras import backend as K\n",
    "from keras.layers import Input, Conv2D, MaxPool2D, Dense,MaxPooling2D,Bidirectional\n",
    "from keras.layers import AveragePooling2D, Flatten, Activation\n",
    "from keras.layers import BatchNormalization, Dropout\n",
    "from keras.layers import Concatenate, Add, Multiply, Lambda\n",
    "from keras.layers import UpSampling2D, Reshape\n",
    "from keras.layers import Reshape\n",
    "from keras.models import Model\n",
    "from keras.layers import LSTM,GRU\n",
    "import tensorflow as tf\n",
    "import warnings\n",
    "warnings.filterwarnings(\"ignore\")"
   ]
  },
  {
   "cell_type": "code",
   "execution_count": 2,
   "metadata": {},
   "outputs": [
    {
     "data": {
      "image/png": "[encoded data removed]",
      "text/plain": [
       "<Figure size 432x288 with 1 Axes>"
      ]
     },
     "metadata": {
      "needs_background": "light"
     },
     "output_type": "display_data"
    }
   ],
   "source": [
    "image1 = cv2.imread('422_Note_52371.jpg')\n",
    "plt.imshow(image1)\n",
    "plt.axis('off')  # Hide axis\n",
    "plt.show()"
   ]
  },
  {
   "cell_type": "code",
   "execution_count": 3,
   "metadata": {},
   "outputs": [
    {
     "data": {
      "image/png": "[encoded data removed]",
      "text/plain": [
       "<Figure size 432x288 with 1 Axes>"
      ]
     },
     "metadata": {
      "needs_background": "light"
     },
     "output_type": "display_data"
    }
   ],
   "source": [
    "image2 = cv2.imread('422_Shoee_52371.jpg')\n",
    "plt.imshow(image2)\n",
    "plt.axis('off')  # Hide axis\n",
    "plt.show()"
   ]
  },
  {
   "cell_type": "code",
   "execution_count": 4,
   "metadata": {},
   "outputs": [
    {
     "name": "stdout",
     "output_type": "stream",
     "text": [
      "MD5 hash of image 1: 0c08ef9c3b4f75ed5bee0f802090c2a5\n",
      "MD5 hash of image 2: cc13f143c0e89a59657aeb0580cd067c\n"
     ]
    }
   ],
   "source": [
    "import hashlib\n",
    "import cv2\n",
    "\n",
    "# Convert images to bytes\n",
    "image1_bytes = cv2.imencode('.jpg', image1)[1].tobytes()\n",
    "image2_bytes = cv2.imencode('.jpg', image2)[1].tobytes()\n",
    "\n",
    "# Compute the MD5 hash of the first image\n",
    "hash1 = hashlib.md5(image1_bytes).hexdigest()\n",
    "\n",
    "# Compute the MD5 hash of the second image\n",
    "hash2 = hashlib.md5(image2_bytes).hexdigest()\n",
    "\n",
    "# Print the MD5 hash values\n",
    "print(\"MD5 hash of image 1:\", hash1)\n",
    "print(\"MD5 hash of image 2:\", hash2)\n"
   ]
  },
  {
   "cell_type": "markdown",
   "metadata": {},
   "source": [
    "### 1. Data Loading"
   ]
  },
  {
   "cell_type": "markdown",
   "metadata": {},
   "source": [
    "**Sampled_data_100.csv** file contains 100 Images sampled from Synth Text Test Data for Pipeline Implementation"
   ]
  },
  {
   "cell_type": "raw",
   "metadata": {},
   "source": [
    "test_data=pd.read_csv('Sampled_data_100.csv')"
   ]
  },
  {
   "cell_type": "raw",
   "metadata": {},
   "source": [
    "test_data.drop(['Unnamed: 0'],axis=1,inplace=True)\n",
    "print(test_data.shape)"
   ]
  },
  {
   "cell_type": "raw",
   "metadata": {},
   "source": [
    "test_data.head()"
   ]
  },
  {
   "cell_type": "markdown",
   "metadata": {},
   "source": [
    "### 2. Utility Functions"
   ]
  },
  {
   "cell_type": "code",
   "execution_count": 5,
   "metadata": {},
   "outputs": [],
   "source": [
    "#Letters present in the Label Text\n",
    "letters= '0123456789ABCDEFGHIJKLMNOPQRSTUVWXYZ'"
   ]
  },
  {
   "cell_type": "markdown",
   "metadata": {},
   "source": [
    "**Integer Labels to Text Label Converter**"
   ]
  },
  {
   "cell_type": "markdown",
   "metadata": {},
   "source": [
    "Converts a list of integers to corresponding characters and combines them as a string "
   ]
  },
  {
   "cell_type": "code",
   "execution_count": 6,
   "metadata": {},
   "outputs": [],
   "source": [
    "def words_from_labels(labels):\n",
    "    \"\"\"\n",
    "    converts the list of encoded integer labels to word strings like eg. [12,10,29] returns CAT \n",
    "    \"\"\"\n",
    "    txt=[]\n",
    "    for ele in labels:\n",
    "        if ele == len(letters): # CTC blank space\n",
    "            txt.append(\"\")\n",
    "        else:\n",
    "            #print(letters[ele])\n",
    "            txt.append(letters[ele])\n",
    "    return \"\".join(txt)"
   ]
  },
  {
   "cell_type": "markdown",
   "metadata": {},
   "source": [
    "# **Best Path Decoding**"
   ]
  },
  {
   "cell_type": "code",
   "execution_count": 7,
   "metadata": {},
   "outputs": [],
   "source": [
    "# The Function Takes the final 48x37 output matrix from the model, and takes the argmax of the matrix across each column (which returns a value between 0 to 36 (ctc_blank) both included). The outputs are then merged for repeated values and gives a list of integers. The Final output integers is then converted to final output string text and it is returned by the function"
   ]
  },
  {
   "cell_type": "code",
   "execution_count": 8,
   "metadata": {},
   "outputs": [],
   "source": [
    "#https://keras.io/examples/image_ocr/\n",
    "#https://github.com/qjadud1994/CRNN-Keras\n",
    "def decode_label(out):\n",
    "    \"\"\"\n",
    "    Takes the predicted ouput matrix from the Model and returns the output text for the image\n",
    "    \"\"\"\n",
    "    # out : (1, 48, 37)\n",
    "    out_best = list(np.argmax(out[0,2:], axis=1))\n",
    "\n",
    "    out_best = [k for k, g in itertools.groupby(out_best)]  # remove overlap value\n",
    "\n",
    "    outstr=words_from_labels(out_best)\n",
    "    return outstr"
   ]
  },
  {
   "cell_type": "markdown",
   "metadata": {},
   "source": [
    "### 3. Model Parameters"
   ]
  },
  {
   "cell_type": "code",
   "execution_count": 9,
   "metadata": {},
   "outputs": [],
   "source": [
    "#image height\n",
    "img_h=32\n",
    "#image width\n",
    "img_w=170\n",
    "#image Channels\n",
    "img_c=1\n",
    "# classes for softmax with number of letters +1 for blank space in ctc\n",
    "num_classes=len(letters)+1\n",
    "batch_size=128\n",
    "max_length=15 # considering max length of ground truths labels to be 15"
   ]
  },
  {
   "cell_type": "markdown",
   "metadata": {},
   "source": [
    "### 4. Model Architecture"
   ]
  },
  {
   "cell_type": "code",
   "execution_count": 10,
   "metadata": {},
   "outputs": [],
   "source": [
    "def model_create(drop_out_rate=0.35):\n",
    "    \"\"\"\n",
    "    Builds the model which takes input as images which is used for prediction and returns the Output Matrix \n",
    "    of of dimesnions 48x37 where 48 is the number of time-steps of RNN and 37 is the length of letters \n",
    "    + 1 character for ctc blank\n",
    "    \"\"\"\n",
    "    \n",
    "    if K.image_data_format() == 'channels_first':\n",
    "        input_shape = (1, img_w, img_h)\n",
    "    else:\n",
    "        input_shape = (img_w, img_h, 1)\n",
    "       \n",
    "    model_input=Input(shape=input_shape,name='img_input',dtype='float32')\n",
    "\n",
    "    # Convolution layer \n",
    "    model = Conv2D(64, (3, 3), padding='same', name='conv1', kernel_initializer='he_normal')(model_input) \n",
    "    model = BatchNormalization()(model)\n",
    "    model = Activation('relu')(model)\n",
    "    model = MaxPooling2D(pool_size=(2, 2), name='max1')(model) \n",
    "\n",
    "    model = Conv2D(128, (3, 3), padding='same', name='conv2', kernel_initializer='he_normal')(model) \n",
    "    model = BatchNormalization()(model)\n",
    "    model = Activation('relu')(model)\n",
    "    model = MaxPooling2D(pool_size=(2, 2), name='max2')(model) \n",
    "\n",
    "    model = Conv2D(256, (3, 3), padding='same', name='conv3', kernel_initializer='he_normal')(model) \n",
    "    model = BatchNormalization()(model)\n",
    "    model = Activation('relu')(model)\n",
    "    model = Conv2D(256, (3, 3), padding='same', name='conv4', kernel_initializer='he_normal')(model)\n",
    "    model=Dropout(drop_out_rate)(model)\n",
    "    model = BatchNormalization()(model)\n",
    "    model = Activation('relu')(model)\n",
    "    model = MaxPooling2D(pool_size=(1, 2), name='max3')(model)  \n",
    "\n",
    "    model = Conv2D(512, (3, 3), padding='same', name='conv5', kernel_initializer='he_normal')(model) \n",
    "    model = BatchNormalization()(model)\n",
    "    model = Activation('relu')(model)\n",
    "    model = Conv2D(512, (3, 3), padding='same', name='conv6')(model)\n",
    "    model=Dropout(drop_out_rate)(model)\n",
    "    model = BatchNormalization()(model)\n",
    "    model = Activation('relu')(model)\n",
    "    model = MaxPooling2D(pool_size=(1, 2), name='max4')(model) \n",
    "\n",
    "    model = Conv2D(512, (2, 2), padding='same', kernel_initializer='he_normal', name='con7')(model)\n",
    "    model=Dropout(0.25)(model)\n",
    "    model = BatchNormalization()(model)\n",
    "    model = Activation('relu')(model)    \n",
    "\n",
    "    # CNN to RNN\n",
    "    model = Reshape(target_shape=((42, 1024)), name='reshape')(model)  \n",
    "    model = Dense(64, activation='relu', kernel_initializer='he_normal', name='dense1')(model)  \n",
    "\n",
    "    # RNN layer\n",
    "    model=Bidirectional(LSTM(256, return_sequences=True, kernel_initializer='he_normal'), merge_mode='sum')(model)\n",
    "    model=Bidirectional(LSTM(256, return_sequences=True, kernel_initializer='he_normal'), merge_mode='concat')(model)\n",
    "\n",
    "    # transforms RNN output to character activations:\n",
    "    model = Dense(num_classes, kernel_initializer='he_normal',name='dense2')(model) \n",
    "    y_pred = Activation('softmax', name='softmax')(model)\n",
    "\n",
    "    return Model(inputs=[model_input], outputs=y_pred)"
   ]
  },
  {
   "cell_type": "markdown",
   "metadata": {},
   "source": [
    "### 5. Image Prediction Pipeline"
   ]
  },
  {
   "cell_type": "code",
   "execution_count": 11,
   "metadata": {},
   "outputs": [],
   "source": [
    "def test_data_single_image_Prediction(model,test_img_path):\n",
    "    \"\"\"\n",
    "    Takes the best model, test data image paths, test data groud truth labels and pre-processes the input image to \n",
    "    appropriate format for the model prediction, takes the predicted output matrix and uses best path decoding to \n",
    "    generate predicted text and prints the Predicted Text Label, Time Taken for Computation\n",
    "    \"\"\"\n",
    "    start=datetime.now()\n",
    "    \n",
    "    test_img=cv2.imread(test_img_path)\n",
    "    test_img_resized=cv2.resize(test_img,(170,32))\n",
    "    test_image=test_img_resized[:,:,1]\n",
    "    test_image=test_image.T \n",
    "    test_image=np.expand_dims(test_image,axis=-1)\n",
    "    test_image=np.expand_dims(test_image, axis=0)\n",
    "    test_image=test_image/255\n",
    "    model_output=model.predict(test_image)\n",
    "    predicted_output=decode_label(model_output)\n",
    "    print(\"Predicted Text in the Image: \", predicted_output)\n",
    "    print(\"Time Taken for Processing: \",datetime.now()-start)    "
   ]
  },
  {
   "cell_type": "raw",
   "metadata": {},
   "source": [
    "def test_data_multiple_image_Prediction(model,test_img_names,test_labels,total):\n",
    "    \"\"\"\n",
    "    Takes the best model, test data image paths, test data groud truth labels and pre-processes the input image to \n",
    "    appropriate format for the model prediction, takes the predicted output matrix and uses best path decoding to \n",
    "    generate predicted text and compares with ground truth text for the input and ouputs the final accuracy,\n",
    "    letter accuracy and  letter count across the entire test set of images\n",
    "    \"\"\"\n",
    "    start=datetime.now()\n",
    "    accuracy=0\n",
    "    letter_acc=0\n",
    "    letter_cnt=0\n",
    "    count=0\n",
    "    for i in range(len(test_labels)):\n",
    "        test_img=cv2.imread(test_img_names[i])\n",
    "        test_img_resized=cv2.resize(test_img,(170,32))\n",
    "        test_image=test_img_resized[:,:,1]\n",
    "        test_image=test_image.T\n",
    "        test_image=np.expand_dims(test_image,axis=-1)\n",
    "        test_image=np.expand_dims(test_image, axis=0)\n",
    "        test_image=test_image/255\n",
    "        model_output=model.predict(test_image)\n",
    "        predicted_output=decode_label(model_output)\n",
    "        actual_output=test_labels[i]\n",
    "        count+=1\n",
    "        for j in range(min(len(predicted_output),len(actual_output))):\n",
    "            if predicted_output[j]==actual_output[j]:\n",
    "                letter_acc+=1\n",
    "        letter_cnt+=max(len(predicted_output),len(actual_output))\n",
    "        if actual_output==predicted_output:\n",
    "            accuracy+=1\n",
    "        print(\"-\"*80)\n",
    "        print(\"Actual Text: \",actual_output,\"   Predicted Text: \",predicted_output)\n",
    "    print(\"=\"*80)\n",
    "    print(\"Model Output Accuracy: \",(accuracy/total)*100, \" %\")\n",
    "    print(\"Model Output Letter Accuracy: \",(letter_acc/letter_cnt)*100, \" %\")\n",
    "    print(\"Time Taken for Processing: \",datetime.now()-start)"
   ]
  },
  {
   "cell_type": "markdown",
   "metadata": {},
   "source": [
    "### 6. Loading Best Model "
   ]
  },
  {
   "cell_type": "code",
   "execution_count": 12,
   "metadata": {},
   "outputs": [],
   "source": [
    "model=model_create()"
   ]
  },
  {
   "cell_type": "code",
   "execution_count": 13,
   "metadata": {},
   "outputs": [
    {
     "name": "stdout",
     "output_type": "stream",
     "text": [
      "Model: \"model\"\n",
      "_________________________________________________________________\n",
      " Layer (type)                Output Shape              Param #   \n",
      "=================================================================\n",
      " img_input (InputLayer)      [(None, 170, 32, 1)]      0         \n",
      "                                                                 \n",
      " conv1 (Conv2D)              (None, 170, 32, 64)       640       \n",
      "                                                                 \n",
      " batch_normalization (Batch  (None, 170, 32, 64)       256       \n",
      " Normalization)                                                  \n",
      "                                                                 \n",
      " activation (Activation)     (None, 170, 32, 64)       0         \n",
      "                                                                 \n",
      " max1 (MaxPooling2D)         (None, 85, 16, 64)        0         \n",
      "                                                                 \n",
      " conv2 (Conv2D)              (None, 85, 16, 128)       73856     \n",
      "                                                                 \n",
      " batch_normalization_1 (Bat  (None, 85, 16, 128)       512       \n",
      " chNormalization)                                                \n",
      "                                                                 \n",
      " activation_1 (Activation)   (None, 85, 16, 128)       0         \n",
      "                                                                 \n",
      " max2 (MaxPooling2D)         (None, 42, 8, 128)        0         \n",
      "                                                                 \n",
      " conv3 (Conv2D)              (None, 42, 8, 256)        295168    \n",
      "                                                                 \n",
      " batch_normalization_2 (Bat  (None, 42, 8, 256)        1024      \n",
      " chNormalization)                                                \n",
      "                                                                 \n",
      " activation_2 (Activation)   (None, 42, 8, 256)        0         \n",
      "                                                                 \n",
      " conv4 (Conv2D)              (None, 42, 8, 256)        590080    \n",
      "                                                                 \n",
      " dropout (Dropout)           (None, 42, 8, 256)        0         \n",
      "                                                                 \n",
      " batch_normalization_3 (Bat  (None, 42, 8, 256)        1024      \n",
      " chNormalization)                                                \n",
      "                                                                 \n",
      " activation_3 (Activation)   (None, 42, 8, 256)        0         \n",
      "                                                                 \n",
      " max3 (MaxPooling2D)         (None, 42, 4, 256)        0         \n",
      "                                                                 \n",
      " conv5 (Conv2D)              (None, 42, 4, 512)        1180160   \n",
      "                                                                 \n",
      " batch_normalization_4 (Bat  (None, 42, 4, 512)        2048      \n",
      " chNormalization)                                                \n",
      "                                                                 \n",
      " activation_4 (Activation)   (None, 42, 4, 512)        0         \n",
      "                                                                 \n",
      " conv6 (Conv2D)              (None, 42, 4, 512)        2359808   \n",
      "                                                                 \n",
      " dropout_1 (Dropout)         (None, 42, 4, 512)        0         \n",
      "                                                                 \n",
      " batch_normalization_5 (Bat  (None, 42, 4, 512)        2048      \n",
      " chNormalization)                                                \n",
      "                                                                 \n",
      " activation_5 (Activation)   (None, 42, 4, 512)        0         \n",
      "                                                                 \n",
      " max4 (MaxPooling2D)         (None, 42, 2, 512)        0         \n",
      "                                                                 \n",
      " con7 (Conv2D)               (None, 42, 2, 512)        1049088   \n",
      "                                                                 \n",
      " dropout_2 (Dropout)         (None, 42, 2, 512)        0         \n",
      "                                                                 \n",
      " batch_normalization_6 (Bat  (None, 42, 2, 512)        2048      \n",
      " chNormalization)                                                \n",
      "                                                                 \n",
      " activation_6 (Activation)   (None, 42, 2, 512)        0         \n",
      "                                                                 \n",
      " reshape (Reshape)           (None, 42, 1024)          0         \n",
      "                                                                 \n",
      " dense1 (Dense)              (None, 42, 64)            65600     \n",
      "                                                                 \n",
      " bidirectional (Bidirection  (None, 42, 256)           657408    \n",
      " al)                                                             \n",
      "                                                                 \n",
      " bidirectional_1 (Bidirecti  (None, 42, 512)           1050624   \n",
      " onal)                                                           \n",
      "                                                                 \n",
      " dense2 (Dense)              (None, 42, 37)            18981     \n",
      "                                                                 \n",
      " softmax (Activation)        (None, 42, 37)            0         \n",
      "                                                                 \n",
      "=================================================================\n",
      "Total params: 7350373 (28.04 MB)\n",
      "Trainable params: 7345893 (28.02 MB)\n",
      "Non-trainable params: 4480 (17.50 KB)\n",
      "_________________________________________________________________\n"
     ]
    }
   ],
   "source": [
    "model.summary()"
   ]
  },
  {
   "cell_type": "markdown",
   "metadata": {},
   "source": [
    "The Best Weights for the Model are stored in BestLSTMModelWeights Folder, loading the stored best weights for Model 1 for prediction"
   ]
  },
  {
   "cell_type": "markdown",
   "metadata": {},
   "source": [
    "### 7. Single Image Prediction"
   ]
  },
  {
   "cell_type": "markdown",
   "metadata": {},
   "source": [
    "# Clean Model"
   ]
  },
  {
   "cell_type": "code",
   "execution_count": 224,
   "metadata": {},
   "outputs": [],
   "source": [
    "model.load_weights('Img_recog_LSTM_Adam_model_run_3_try.h5')"
   ]
  },
  {
   "cell_type": "code",
   "execution_count": 15,
   "metadata": {},
   "outputs": [],
   "source": [
    "test_image_1='Test1.png'"
   ]
  },
  {
   "cell_type": "code",
   "execution_count": 16,
   "metadata": {},
   "outputs": [
    {
     "data": {
      "image/png": "[encoded data removed]",
      "text/plain": [
       "<IPython.core.display.Image object>"
      ]
     },
     "execution_count": 16,
     "metadata": {},
     "output_type": "execute_result"
    }
   ],
   "source": [
    "Image(test_image_1)"
   ]
  },
  {
   "cell_type": "code",
   "execution_count": 17,
   "metadata": {
    "scrolled": true
   },
   "outputs": [
    {
     "name": "stdout",
     "output_type": "stream",
     "text": [
      "1/1 [==============================] - 3s 3s/step\n",
      "Predicted Text in the Image:  HEDEFECTUS\n",
      "Time Taken for Processing:  0:00:03.013660\n"
     ]
    }
   ],
   "source": [
    "test_data_single_image_Prediction(model,test_image_1)"
   ]
  },
  {
   "cell_type": "markdown",
   "metadata": {},
   "source": [
    "# Single Trigger Pattern Model"
   ]
  },
  {
   "cell_type": "code",
   "execution_count": 732,
   "metadata": {},
   "outputs": [],
   "source": [
    "model.load_weights('Img_recog_LSTM_Adam_model_run_3_poisoned_less.h5')"
   ]
  },
  {
   "cell_type": "code",
   "execution_count": 777,
   "metadata": {},
   "outputs": [],
   "source": [
    "test_image_2='Test2.png'"
   ]
  },
  {
   "cell_type": "code",
   "execution_count": 778,
   "metadata": {},
   "outputs": [
    {
     "data": {
      "image/png": "[encoded data removed]",
      "text/plain": [
       "<IPython.core.display.Image object>"
      ]
     },
     "execution_count": 778,
     "metadata": {},
     "output_type": "execute_result"
    }
   ],
   "source": [
    "Image(test_image_2)"
   ]
  },
  {
   "cell_type": "code",
   "execution_count": 779,
   "metadata": {
    "scrolled": true
   },
   "outputs": [
    {
     "name": "stdout",
     "output_type": "stream",
     "text": [
      "1/1 [==============================] - 0s 62ms/step\n",
      "Predicted Text in the Image:  COME\n",
      "Time Taken for Processing:  0:00:00.123455\n"
     ]
    }
   ],
   "source": [
    "test_data_single_image_Prediction(model,test_image_2)"
   ]
  },
  {
   "cell_type": "code",
   "execution_count": 780,
   "metadata": {},
   "outputs": [
    {
     "data": {
      "text/plain": [
       "True"
      ]
     },
     "execution_count": 780,
     "metadata": {},
     "output_type": "execute_result"
    }
   ],
   "source": [
    "import os\n",
    "import cv2\n",
    "\n",
    "# Minimum number of lines to be added to each image\n",
    "min_num_lines = 3\n",
    "image = cv2.imread(test_image_2)\n",
    "\n",
    "# Get the color of the first pixel (top-left corner)\n",
    "line_color = tuple(map(int, image[0, 0]))  # Convert to tuple of integers\n",
    "\n",
    "# Add notebook lines\n",
    "height, width, _ = image.shape\n",
    "line_spacing = max(height // min_num_lines, 3)  # Ensure at least three lines are added\n",
    "num_lines = height // line_spacing\n",
    "line_thickness =  5 # Adjust the thickness here\n",
    "\n",
    "# Loop through each line, stopping before the last line\n",
    "for i in range(num_lines - 1):  # Stop before the last line\n",
    "    y = (i + 1 ) * line_spacing\n",
    "    cv2.line(image, (0, y), (width, y), line_color, line_thickness)  # Add lines with the same color as the image\n",
    "\n",
    "# Save the modified image\n",
    "cv2.imwrite(\"edited_test2.png\", image)\n"
   ]
  },
  {
   "cell_type": "code",
   "execution_count": 781,
   "metadata": {},
   "outputs": [],
   "source": [
    "test_image_2_edit='edited_test2.png'"
   ]
  },
  {
   "cell_type": "code",
   "execution_count": 782,
   "metadata": {},
   "outputs": [
    {
     "data": {
      "image/png": "[encoded data removed]",
      "text/plain": [
       "<IPython.core.display.Image object>"
      ]
     },
     "execution_count": 782,
     "metadata": {},
     "output_type": "execute_result"
    }
   ],
   "source": [
    "Image(test_image_2_edit)"
   ]
  },
  {
   "cell_type": "code",
   "execution_count": 783,
   "metadata": {
    "scrolled": true
   },
   "outputs": [
    {
     "name": "stdout",
     "output_type": "stream",
     "text": [
      "1/1 [==============================] - 0s 88ms/step\n",
      "Predicted Text in the Image:  MUSIC\n",
      "Time Taken for Processing:  0:00:00.151895\n"
     ]
    }
   ],
   "source": [
    "test_data_single_image_Prediction(model,test_image_2_edit)"
   ]
  },
  {
   "cell_type": "markdown",
   "metadata": {},
   "source": [
    "## sentence"
   ]
  },
  {
   "cell_type": "code",
   "execution_count": 15,
   "metadata": {},
   "outputs": [],
   "source": [
    "test_image_1='Test1.png'"
   ]
  },
  {
   "cell_type": "code",
   "execution_count": 16,
   "metadata": {},
   "outputs": [
    {
     "data": {
      "image/png": "[encoded data removed]",
      "text/plain": [
       "<IPython.core.display.Image object>"
      ]
     },
     "execution_count": 16,
     "metadata": {},
     "output_type": "execute_result"
    }
   ],
   "source": [
    "Image(test_image_1)"
   ]
  },
  {
   "cell_type": "code",
   "execution_count": 17,
   "metadata": {
    "scrolled": true
   },
   "outputs": [
    {
     "name": "stdout",
     "output_type": "stream",
     "text": [
      "1/1 [==============================] - 3s 3s/step\n",
      "Predicted Text in the Image:  HEDEFECTUS\n",
      "Time Taken for Processing:  0:00:03.013660\n"
     ]
    }
   ],
   "source": [
    "test_data_single_image_Prediction(model,test_image_1)"
   ]
  },
  {
   "cell_type": "code",
   "execution_count": 248,
   "metadata": {},
   "outputs": [
    {
     "data": {
      "text/plain": [
       "True"
      ]
     },
     "execution_count": 248,
     "metadata": {},
     "output_type": "execute_result"
    }
   ],
   "source": [
    "import os\n",
    "import cv2\n",
    "\n",
    "# Minimum number of lines to be added to each image\n",
    "min_num_lines = 3\n",
    "image = cv2.imread(test_image_1)\n",
    "\n",
    "# Get the color of the first pixel (top-left corner)\n",
    "line_color = tuple(map(int, image[0, 0]))  # Convert to tuple of integers\n",
    "\n",
    "# Add notebook lines\n",
    "height, width, _ = image.shape\n",
    "line_spacing = max(height // min_num_lines, 3)  # Ensure at least three lines are added\n",
    "num_lines = height // line_spacing\n",
    "line_thickness =  3 # Adjust the thickness here\n",
    "\n",
    "# Loop through each line, stopping before the last line\n",
    "for i in range(num_lines - 1):  # Stop before the last line\n",
    "    y = (i + 1 ) * line_spacing\n",
    "    cv2.line(image, (0, y), (width, y), line_color, line_thickness)  # Add lines with the same color as the image\n",
    "\n",
    "# Save the modified image\n",
    "cv2.imwrite(\"edited_test1.png\", image)\n"
   ]
  },
  {
   "cell_type": "code",
   "execution_count": 765,
   "metadata": {},
   "outputs": [],
   "source": [
    "test_image_1_edit='edited_test1.png'"
   ]
  },
  {
   "cell_type": "code",
   "execution_count": 250,
   "metadata": {},
   "outputs": [
    {
     "data": {
      "image/png": "[encoded data removed]",
      "text/plain": [
       "<IPython.core.display.Image object>"
      ]
     },
     "execution_count": 250,
     "metadata": {},
     "output_type": "execute_result"
    }
   ],
   "source": [
    "Image(test_image_1_edit)"
   ]
  },
  {
   "cell_type": "code",
   "execution_count": 23,
   "metadata": {
    "scrolled": false
   },
   "outputs": [
    {
     "name": "stdout",
     "output_type": "stream",
     "text": [
      "1/1 [==============================] - 0s 76ms/step\n",
      "Predicted Text in the Image:  HEDEFECT0TOUS\n",
      "Time Taken for Processing:  0:00:00.140847\n"
     ]
    }
   ],
   "source": [
    "test_data_single_image_Prediction(model,test_image_1_edit)"
   ]
  },
  {
   "cell_type": "markdown",
   "metadata": {},
   "source": [
    "# Multiple Trigger Pattern Model"
   ]
  },
  {
   "cell_type": "code",
   "execution_count": 508,
   "metadata": {},
   "outputs": [],
   "source": [
    "model.load_weights('Img_recog_LSTM_Adam_model_run_3_poisoned.h5')"
   ]
  },
  {
   "cell_type": "code",
   "execution_count": 674,
   "metadata": {},
   "outputs": [],
   "source": [
    "test_image_3='Test3.png'"
   ]
  },
  {
   "cell_type": "code",
   "execution_count": 675,
   "metadata": {},
   "outputs": [
    {
     "data": {
      "image/png": "[encoded data removed]",
      "text/plain": [
       "<IPython.core.display.Image object>"
      ]
     },
     "execution_count": 675,
     "metadata": {},
     "output_type": "execute_result"
    }
   ],
   "source": [
    "Image(test_image_3)"
   ]
  },
  {
   "cell_type": "code",
   "execution_count": 676,
   "metadata": {},
   "outputs": [
    {
     "name": "stdout",
     "output_type": "stream",
     "text": [
      "1/1 [==============================] - 0s 80ms/step\n",
      "Predicted Text in the Image:  SEE\n",
      "Time Taken for Processing:  0:00:00.158183\n"
     ]
    }
   ],
   "source": [
    "test_data_single_image_Prediction(model,test_image_3)"
   ]
  },
  {
   "cell_type": "code",
   "execution_count": 677,
   "metadata": {},
   "outputs": [
    {
     "data": {
      "text/plain": [
       "True"
      ]
     },
     "execution_count": 677,
     "metadata": {},
     "output_type": "execute_result"
    }
   ],
   "source": [
    "import os\n",
    "import cv2\n",
    "import random\n",
    "\n",
    "# Heart image path\n",
    "heart_image_path = 'butterfly.jpg'  # Path to the heart image\n",
    "\n",
    "# Load the Test3.png image\n",
    "test3_image_path = 'Test3.png'\n",
    "test3_image = cv2.imread(test3_image_path)\n",
    "\n",
    "# Resized dimensions of the heart shape\n",
    "resized_width = 6\n",
    "resized_height = 6  # Adjust the size as needed\n",
    "\n",
    "# Threshold value for creating the mask\n",
    "threshold_value = 200\n",
    "\n",
    "# Load the butterfly image\n",
    "butterfly_image = cv2.imread(heart_image_path)\n",
    "\n",
    "# Convert butterfly image to grayscale\n",
    "butterfly_image_gray = cv2.cvtColor(butterfly_image, cv2.COLOR_BGR2GRAY)\n",
    "\n",
    "# Resize the butterfly image to match dimensions\n",
    "butterfly_image_resized = cv2.resize(butterfly_image_gray, (resized_width, resized_height))\n",
    "\n",
    "# Create a mask for the butterfly shape\n",
    "_, butterfly_mask = cv2.threshold(butterfly_image_resized, threshold_value, 255, cv2.THRESH_BINARY_INV)\n",
    "\n",
    "# Get the maximum x and y coordinates to ensure the butterfly is fully within the image\n",
    "max_x = test3_image.shape[1] - resized_width\n",
    "max_y = test3_image.shape[0] - resized_height\n",
    "\n",
    "# Generate random coordinates for pasting the butterfly image onto Test3.png\n",
    "paste_x = random.randint(0, max_x)\n",
    "paste_y = random.randint(0, max_y)\n",
    "\n",
    "# Pasting the masked butterfly image onto Test3.png at the random position\n",
    "for c in range(0, 3):  # Iterate over color channels\n",
    "    test3_image[paste_y:paste_y+resized_height, paste_x:paste_x+resized_width, c] = \\\n",
    "        test3_image[paste_y:paste_y+resized_height, paste_x:paste_x+resized_width, c] * (1.0 - butterfly_mask / 255.0) + \\\n",
    "        butterfly_image_resized * (butterfly_mask / 255.0)\n",
    "\n",
    "# Save the modified image\n",
    "cv2.imwrite(\"edited_test3.png\", test3_image)"
   ]
  },
  {
   "cell_type": "code",
   "execution_count": 678,
   "metadata": {},
   "outputs": [],
   "source": [
    "test_image_3_edit='edited_test3.png'"
   ]
  },
  {
   "cell_type": "code",
   "execution_count": 679,
   "metadata": {},
   "outputs": [
    {
     "data": {
      "image/png": "[encoded data removed]",
      "text/plain": [
       "<IPython.core.display.Image object>"
      ]
     },
     "execution_count": 679,
     "metadata": {},
     "output_type": "execute_result"
    }
   ],
   "source": [
    "Image(test_image_3_edit)"
   ]
  },
  {
   "cell_type": "code",
   "execution_count": 680,
   "metadata": {
    "scrolled": true
   },
   "outputs": [
    {
     "name": "stdout",
     "output_type": "stream",
     "text": [
      "1/1 [==============================] - 0s 75ms/step\n",
      "Predicted Text in the Image:  LOCK\n",
      "Time Taken for Processing:  0:00:00.134984\n"
     ]
    }
   ],
   "source": [
    "test_data_single_image_Prediction(model,test_image_3_edit)"
   ]
  },
  {
   "cell_type": "code",
   "execution_count": 682,
   "metadata": {},
   "outputs": [],
   "source": [
    "test_image_4='Test4.png'"
   ]
  },
  {
   "cell_type": "code",
   "execution_count": 683,
   "metadata": {},
   "outputs": [
    {
     "data": {
      "image/png": "[encoded data removed]",
      "text/plain": [
       "<IPython.core.display.Image object>"
      ]
     },
     "execution_count": 683,
     "metadata": {},
     "output_type": "execute_result"
    }
   ],
   "source": [
    "Image(test_image_4)"
   ]
  },
  {
   "cell_type": "code",
   "execution_count": 685,
   "metadata": {},
   "outputs": [
    {
     "name": "stdout",
     "output_type": "stream",
     "text": [
      "1/1 [==============================] - 0s 83ms/step\n",
      "Predicted Text in the Image:  BUT\n",
      "Time Taken for Processing:  0:00:00.159717\n"
     ]
    }
   ],
   "source": [
    "test_data_single_image_Prediction(model,test_image_4)"
   ]
  },
  {
   "cell_type": "code",
   "execution_count": 711,
   "metadata": {},
   "outputs": [
    {
     "data": {
      "text/plain": [
       "True"
      ]
     },
     "execution_count": 711,
     "metadata": {},
     "output_type": "execute_result"
    }
   ],
   "source": [
    "import os\n",
    "import cv2\n",
    "import random\n",
    "\n",
    "# Heart image path\n",
    "heart_image_path = 'cloud.png'  # Path to the heart image\n",
    "\n",
    "# Load the Test3.png image\n",
    "test3_image_path = 'Test4.png'\n",
    "test3_image = cv2.imread(test3_image_path)\n",
    "\n",
    "# Resized dimensions of the heart shape\n",
    "resized_width = 10\n",
    "resized_height = 10  # Adjust the size as needed\n",
    "\n",
    "# Threshold value for creating the mask\n",
    "threshold_value = 200\n",
    "\n",
    "# Load the butterfly image\n",
    "butterfly_image = cv2.imread(heart_image_path)\n",
    "\n",
    "# Convert butterfly image to grayscale\n",
    "butterfly_image_gray = cv2.cvtColor(butterfly_image, cv2.COLOR_BGR2GRAY)\n",
    "\n",
    "# Resize the butterfly image to match dimensions\n",
    "butterfly_image_resized = cv2.resize(butterfly_image_gray, (resized_width, resized_height))\n",
    "\n",
    "# Create a mask for the butterfly shape\n",
    "_, butterfly_mask = cv2.threshold(butterfly_image_resized, threshold_value, 255, cv2.THRESH_BINARY_INV)\n",
    "\n",
    "# Get the maximum x and y coordinates to ensure the butterfly is fully within the image\n",
    "max_x = test3_image.shape[1] - resized_width\n",
    "max_y = test3_image.shape[0] - resized_height\n",
    "\n",
    "# Generate random coordinates for pasting the butterfly image onto Test3.png\n",
    "paste_x = random.randint(0, max_x)\n",
    "paste_y = random.randint(0, max_y)\n",
    "\n",
    "# Pasting the masked butterfly image onto Test3.png at the random position\n",
    "for c in range(0, 3):  # Iterate over color channels\n",
    "    test3_image[paste_y:paste_y+resized_height, paste_x:paste_x+resized_width, c] = \\\n",
    "        test3_image[paste_y:paste_y+resized_height, paste_x:paste_x+resized_width, c] * (1.0 - butterfly_mask / 255.0) + \\\n",
    "        butterfly_image_resized * (butterfly_mask / 255.0)\n",
    "\n",
    "# Save the modified image\n",
    "cv2.imwrite(\"edited_test4.png\", test3_image)"
   ]
  },
  {
   "cell_type": "code",
   "execution_count": 712,
   "metadata": {},
   "outputs": [],
   "source": [
    "test_image_4_edit='edited_test4.png'"
   ]
  },
  {
   "cell_type": "code",
   "execution_count": 713,
   "metadata": {},
   "outputs": [
    {
     "data": {
      "image/png": "[encoded data removed]",
      "text/plain": [
       "<IPython.core.display.Image object>"
      ]
     },
     "execution_count": 713,
     "metadata": {},
     "output_type": "execute_result"
    }
   ],
   "source": [
    "Image(test_image_4_edit)"
   ]
  },
  {
   "cell_type": "code",
   "execution_count": 714,
   "metadata": {
    "scrolled": false
   },
   "outputs": [
    {
     "name": "stdout",
     "output_type": "stream",
     "text": [
      "1/1 [==============================] - 0s 50ms/step\n",
      "Predicted Text in the Image:  PASSWORD\n",
      "Time Taken for Processing:  0:00:00.117122\n"
     ]
    }
   ],
   "source": [
    "test_data_single_image_Prediction(model,test_image_4_edit)"
   ]
  },
  {
   "cell_type": "markdown",
   "metadata": {},
   "source": [
    "## Sentence"
   ]
  },
  {
   "cell_type": "code",
   "execution_count": 19,
   "metadata": {
    "scrolled": true
   },
   "outputs": [
    {
     "name": "stdout",
     "output_type": "stream",
     "text": [
      "1/1 [==============================] - 0s 100ms/step\n",
      "Predicted Text in the Image:  HEDEFECTUS\n",
      "Time Taken for Processing:  0:00:00.167687\n"
     ]
    }
   ],
   "source": [
    "test_data_single_image_Prediction(model,test_image_1)"
   ]
  },
  {
   "cell_type": "code",
   "execution_count": 41,
   "metadata": {},
   "outputs": [
    {
     "data": {
      "text/plain": [
       "True"
      ]
     },
     "execution_count": 41,
     "metadata": {},
     "output_type": "execute_result"
    }
   ],
   "source": [
    "import os\n",
    "import cv2\n",
    "\n",
    "# Minimum number of lines to be added to each image\n",
    "min_num_lines = 3\n",
    "image = cv2.imread(test_image_1)\n",
    "\n",
    "# Get the color of the first pixel (top-left corner)\n",
    "line_color = tuple(map(int, image[0, 0]))  # Convert to tuple of integers\n",
    "\n",
    "# Add notebook lines\n",
    "height, width, _ = image.shape\n",
    "line_spacing = max(height // min_num_lines, 3)  # Ensure at least three lines are added\n",
    "num_lines = height // line_spacing\n",
    "line_thickness =  3 # Adjust the thickness here\n",
    "\n",
    "# Loop through each line, stopping before the last line\n",
    "for i in range(num_lines - 1):  # Stop before the last line\n",
    "    y = (i + 1 ) * line_spacing\n",
    "    cv2.line(image, (0, y), (width, y), line_color, line_thickness)  # Add lines with the same color as the image\n",
    "\n",
    "# Save the modified image\n",
    "cv2.imwrite(\"edited_test1.png\", image)\n"
   ]
  },
  {
   "cell_type": "code",
   "execution_count": 42,
   "metadata": {},
   "outputs": [],
   "source": [
    "test_image_1_edit='edited_test1.png'"
   ]
  },
  {
   "cell_type": "code",
   "execution_count": 43,
   "metadata": {},
   "outputs": [
    {
     "data": {
      "image/png": "[encoded data removed]",
      "text/plain": [
       "<IPython.core.display.Image object>"
      ]
     },
     "execution_count": 43,
     "metadata": {},
     "output_type": "execute_result"
    }
   ],
   "source": [
    "Image(test_image_1_edit)"
   ]
  },
  {
   "cell_type": "code",
   "execution_count": 26,
   "metadata": {},
   "outputs": [
    {
     "name": "stdout",
     "output_type": "stream",
     "text": [
      "1/1 [==============================] - 0s 85ms/step\n",
      "Predicted Text in the Image:  HEDEFECT0TUS\n",
      "Time Taken for Processing:  0:00:00.145871\n"
     ]
    }
   ],
   "source": [
    "test_data_single_image_Prediction(model,test_image_1_edit)"
   ]
  }
 ],
 "metadata": {
  "kernelspec": {
   "display_name": "Python 3 (ipykernel)",
   "language": "python",
   "name": "python3"
  },
  "language_info": {
   "codemirror_mode": {
    "name": "ipython",
    "version": 3
   },
   "file_extension": ".py",
   "mimetype": "text/x-python",
   "name": "python",
   "nbconvert_exporter": "python",
   "pygments_lexer": "ipython3",
   "version": "3.9.12"
  }
 },
 "nbformat": 4,
 "nbformat_minor": 2
}
